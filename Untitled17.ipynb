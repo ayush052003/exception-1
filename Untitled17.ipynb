{
 "cells": [
  {
   "cell_type": "code",
   "execution_count": 1,
   "id": "d7934da0-e8b0-4396-a2bc-ab5405ea2936",
   "metadata": {},
   "outputs": [
    {
     "data": {
      "text/plain": [
       "'Q1. What is an Exception in python? Write the difference between Exceptions and Syntax errors'"
      ]
     },
     "execution_count": 1,
     "metadata": {},
     "output_type": "execute_result"
    }
   ],
   "source": [
    "'''Q1. What is an Exception in python? Write the difference between Exceptions and Syntax errors'''"
   ]
  },
  {
   "cell_type": "code",
   "execution_count": 2,
   "id": "dcd457bc-e9a6-438c-9e2f-2a03ff12e812",
   "metadata": {},
   "outputs": [
    {
     "ename": "SyntaxError",
     "evalue": "'(' was never closed (4044674997.py, line 4)",
     "output_type": "error",
     "traceback": [
      "\u001b[0;36m  Cell \u001b[0;32mIn[2], line 4\u001b[0;36m\u001b[0m\n\u001b[0;31m    print(x\u001b[0m\n\u001b[0m         ^\u001b[0m\n\u001b[0;31mSyntaxError\u001b[0m\u001b[0;31m:\u001b[0m '(' was never closed\n"
     ]
    }
   ],
   "source": [
    "# When an unexpected condition is encountered while running a Python code, the program stops its execution and throws an error. \n",
    "# There are basically two types of errors in Python: syntax errors and exceptions.\n",
    "\n",
    "print(x\n",
    "print(1)"
   ]
  },
  {
   "cell_type": "code",
   "execution_count": 3,
   "id": "c65c94a7-2d6b-4804-8d8c-ac2efed6ef70",
   "metadata": {},
   "outputs": [],
   "source": [
    "# as we can see that there is an syntax error which is caused due to parenthesis is not closed."
   ]
  },
  {
   "cell_type": "code",
   "execution_count": 4,
   "id": "c030f6f7-bc43-4398-87e0-8244ac1a8c90",
   "metadata": {},
   "outputs": [
    {
     "ename": "NameError",
     "evalue": "name 'x' is not defined",
     "output_type": "error",
     "traceback": [
      "\u001b[0;31m---------------------------------------------------------------------------\u001b[0m",
      "\u001b[0;31mNameError\u001b[0m                                 Traceback (most recent call last)",
      "Cell \u001b[0;32mIn[4], line 1\u001b[0m\n\u001b[0;32m----> 1\u001b[0m \u001b[38;5;28mprint\u001b[39m(\u001b[43mx\u001b[49m)\n\u001b[1;32m      2\u001b[0m \u001b[38;5;28mprint\u001b[39m(\u001b[38;5;241m1\u001b[39m)\n",
      "\u001b[0;31mNameError\u001b[0m: name 'x' is not defined"
     ]
    }
   ],
   "source": [
    "print(x)\n",
    "print(1)"
   ]
  },
  {
   "cell_type": "code",
   "execution_count": 5,
   "id": "33b80e80-084c-406f-ab9e-fa6ef68af6f6",
   "metadata": {},
   "outputs": [],
   "source": [
    "# now as we can see that there is an other error occurs rather than the syntax error that type of error is known as exceptions in python."
   ]
  },
  {
   "cell_type": "code",
   "execution_count": 6,
   "id": "600583ca-156d-43ba-a16d-f759dacd278d",
   "metadata": {},
   "outputs": [
    {
     "data": {
      "text/plain": [
       "'Q2. What happens when an exception is not handled? Explain with an example.'"
      ]
     },
     "execution_count": 6,
     "metadata": {},
     "output_type": "execute_result"
    }
   ],
   "source": [
    "'''Q2. What happens when an exception is not handled? Explain with an example.'''"
   ]
  },
  {
   "cell_type": "code",
   "execution_count": 3,
   "id": "914df4c5-6781-4724-b3f4-bac3f558943c",
   "metadata": {},
   "outputs": [
    {
     "ename": "ZeroDivisionError",
     "evalue": "division by zero",
     "output_type": "error",
     "traceback": [
      "\u001b[0;31m---------------------------------------------------------------------------\u001b[0m",
      "\u001b[0;31mZeroDivisionError\u001b[0m                         Traceback (most recent call last)",
      "Cell \u001b[0;32mIn[3], line 5\u001b[0m\n\u001b[1;32m      1\u001b[0m \u001b[38;5;66;03m# as we know that in python excseptions occer when our code is syntactically right but thier is an error occers,,,,so as we know there are\u001b[39;00m\n\u001b[1;32m      2\u001b[0m \u001b[38;5;66;03m# 4 major blocks in exception handling in python,,1.try,2.except,3.else,4.finally...let suppose we write a small code to understand more\u001b[39;00m\n\u001b[1;32m      4\u001b[0m \u001b[38;5;28;01mtry\u001b[39;00m:\n\u001b[0;32m----> 5\u001b[0m     \u001b[38;5;241;43m50\u001b[39;49m\u001b[38;5;241;43m/\u001b[39;49m\u001b[38;5;241;43m0\u001b[39;49m\n\u001b[1;32m      6\u001b[0m \u001b[38;5;28;01mexcept\u001b[39;00m \u001b[38;5;167;01mFileNotFoundError\u001b[39;00m \u001b[38;5;28;01mas\u001b[39;00m e:\n\u001b[1;32m      7\u001b[0m     \u001b[38;5;28mprint\u001b[39m(e)\n",
      "\u001b[0;31mZeroDivisionError\u001b[0m: division by zero"
     ]
    }
   ],
   "source": [
    "# as we know that in python excseptions occer when our code is syntactically right but thier is an error occers,,,,so as we know there are\n",
    "# 4 major blocks in exception handling in python,,1.try,2.except,3.else,4.finally...let suppose we write a small code to understand more\n",
    "\n",
    "try:\n",
    "    50/0\n",
    "except FileNotFoundError as e:\n",
    "    print(e)"
   ]
  },
  {
   "cell_type": "code",
   "execution_count": 8,
   "id": "b18c6ce7-5c4c-4809-adcb-a5a2d583d21f",
   "metadata": {},
   "outputs": [],
   "source": [
    "# here as we can see that there is an error occors because the exception is not get handled here,,,,due to which an error occurs"
   ]
  },
  {
   "cell_type": "code",
   "execution_count": 2,
   "id": "8a7cedb8-b49b-40a7-beea-3f8b551315ed",
   "metadata": {},
   "outputs": [
    {
     "name": "stdout",
     "output_type": "stream",
     "text": [
      "division by zero\n"
     ]
    }
   ],
   "source": [
    "try:\n",
    "    50/0\n",
    "except ZeroDivisionError as e:\n",
    "    print(e)\n",
    "else:\n",
    "    print(\"error not resolved\")"
   ]
  },
  {
   "cell_type": "code",
   "execution_count": 4,
   "id": "0b595fcf-579a-43ab-9532-5120ea3522ec",
   "metadata": {},
   "outputs": [],
   "source": [
    "# but here we can see that our exception is get resolved ,,,,so there is no error occurs"
   ]
  },
  {
   "cell_type": "code",
   "execution_count": 5,
   "id": "648a8b9b-e828-4a2e-8975-adfee7622bed",
   "metadata": {},
   "outputs": [
    {
     "data": {
      "text/plain": [
       "'Q3. Which Python statements are used to catch and handle exceptions? Explain with an example'"
      ]
     },
     "execution_count": 5,
     "metadata": {},
     "output_type": "execute_result"
    }
   ],
   "source": [
    "'''Q3. Which Python statements are used to catch and handle exceptions? Explain with an example'''"
   ]
  },
  {
   "cell_type": "code",
   "execution_count": 6,
   "id": "5597154f-1795-4a79-be38-170fa38750f8",
   "metadata": {},
   "outputs": [
    {
     "name": "stdout",
     "output_type": "stream",
     "text": [
      "[Errno 2] No such file or directory: 'right.txt'\n"
     ]
    },
    {
     "ename": "NameError",
     "evalue": "name 'f' is not defined",
     "output_type": "error",
     "traceback": [
      "\u001b[0;31m---------------------------------------------------------------------------\u001b[0m",
      "\u001b[0;31mNameError\u001b[0m                                 Traceback (most recent call last)",
      "Cell \u001b[0;32mIn[6], line 13\u001b[0m\n\u001b[1;32m     11\u001b[0m     \u001b[38;5;28mprint\u001b[39m(e)\n\u001b[1;32m     12\u001b[0m \u001b[38;5;28;01mfinally\u001b[39;00m:\n\u001b[0;32m---> 13\u001b[0m     \u001b[43mf\u001b[49m\u001b[38;5;241m.\u001b[39mclose()\n",
      "\u001b[0;31mNameError\u001b[0m: name 'f' is not defined"
     ]
    }
   ],
   "source": [
    "# In python ,we generally use try and except statements to catch and handle the exceptions...Statements that can raise exceptions are \n",
    "# kept inside the try clause and the statements that handle the exception are written inside except clause.\n",
    "\n",
    "\n",
    "#Example--lets try to understand more with the example..\n",
    "\n",
    "try:\n",
    "    f=open(\"right.txt\",\"r\")\n",
    "    f.read()\n",
    "except FileNotFoundError as e:\n",
    "    print(e)\n",
    "finally:\n",
    "    f.close()"
   ]
  },
  {
   "cell_type": "code",
   "execution_count": 7,
   "id": "85bbd55d-268d-4f64-9d88-b6afd69b57b3",
   "metadata": {},
   "outputs": [
    {
     "name": "stdout",
     "output_type": "stream",
     "text": [
      "division by zero\n"
     ]
    }
   ],
   "source": [
    "# so now here we can see that there is an error occors which says that file not found,,,but we can see that our finally block is executed\n",
    "# either try is executed or not...lets try more examples to understand...\n",
    "\n",
    "try:\n",
    "    30/0\n",
    "except ZeroDivisionError as e:\n",
    "    print(e)"
   ]
  },
  {
   "cell_type": "code",
   "execution_count": 8,
   "id": "36ec3c87-00a8-4c76-b258-9ea53fa2e408",
   "metadata": {},
   "outputs": [
    {
     "data": {
      "text/plain": [
       "'Q4. Explain with an example:#\\n\\x0c\\x1d try and else#\\n\\x07\\x1d finall\\n\\n+\\x1d raise\\xa0'"
      ]
     },
     "execution_count": 8,
     "metadata": {},
     "output_type": "execute_result"
    }
   ],
   "source": [
    "'''Q4. Explain with an example:#\n",
    "\f",
    "\u001d",
    " try and else#\n",
    "\u0007\u001d",
    " finall\n",
    "\n",
    "+\u001d",
    " raise '''"
   ]
  },
  {
   "cell_type": "code",
   "execution_count": 10,
   "id": "9d0ea42f-f0c4-497a-add0-c5973a2bf318",
   "metadata": {},
   "outputs": [
    {
     "data": {
      "text/plain": [
       "'Try and Except Statement \\nTry and except statements are used to catch and handle exceptions in Python. Statements that can raise exceptions are kept inside the \\ntry clause and the statements that handle the exception are written inside except clause.'"
      ]
     },
     "execution_count": 10,
     "metadata": {},
     "output_type": "execute_result"
    }
   ],
   "source": [
    "'''Try and Except Statement \n",
    "Try and except statements are used to catch and handle exceptions in Python. Statements that can raise exceptions are kept inside the \n",
    "try clause and the statements that handle the exception are written inside except clause.'''"
   ]
  },
  {
   "cell_type": "code",
   "execution_count": 11,
   "id": "af928577-e0d6-4c65-82bf-65eabd1bc092",
   "metadata": {},
   "outputs": [
    {
     "data": {
      "text/plain": [
       "'Python provides a keyword finally, which is always executed after the try and except blocks. The final block always executes after the normal termination of the try block or after the try block terminates due to some exception.'"
      ]
     },
     "execution_count": 11,
     "metadata": {},
     "output_type": "execute_result"
    }
   ],
   "source": [
    "'''Python provides a keyword finally, which is always executed after the try and except blocks. The final block always executes after the normal termination of the try block or after the try block terminates due to some exception.'''"
   ]
  },
  {
   "cell_type": "code",
   "execution_count": 12,
   "id": "658515a6-1d70-4389-958f-2dfd6bed61f4",
   "metadata": {},
   "outputs": [
    {
     "data": {
      "text/plain": [
       "'The raise statement allows the programmer to force a specific exception to occur. The sole argument in raise indicates the exception to be raised. This must be either an exception instance or an exception class (a class that derives from Exception).'"
      ]
     },
     "execution_count": 12,
     "metadata": {},
     "output_type": "execute_result"
    }
   ],
   "source": [
    "'''The raise statement allows the programmer to force a specific exception to occur. The sole argument in raise indicates the exception to be raised. This must be either an exception instance or an exception class (a class that derives from Exception).'''"
   ]
  },
  {
   "cell_type": "code",
   "execution_count": 13,
   "id": "8ed5f192-2b66-446c-aaaa-b49c2d73a77c",
   "metadata": {},
   "outputs": [
    {
     "data": {
      "text/plain": [
       "'Q5. What are Custom Exceptions in python? Why do we need Custom Exceptions? Explain with an example.'"
      ]
     },
     "execution_count": 13,
     "metadata": {},
     "output_type": "execute_result"
    }
   ],
   "source": [
    "'''Q5. What are Custom Exceptions in python? Why do we need Custom Exceptions? Explain with an example.'''"
   ]
  },
  {
   "cell_type": "code",
   "execution_count": null,
   "id": "1f725163-7231-426e-9be7-16e8ca33c2f2",
   "metadata": {},
   "outputs": [],
   "source": [
    "# sometimes in python some exceptions were occurs which are not inbuilt ,,that type of exceptions are known as custum exception..now the question arrises that why we use custom exception ..lets understand it with the example\n",
    "\n",
    "age = int(input(\"enter the age: \"))"
   ]
  },
  {
   "cell_type": "code",
   "execution_count": null,
   "id": "f3b5d227-7de6-4cdc-8e70-98a5c5b82e21",
   "metadata": {},
   "outputs": [],
   "source": [
    "# so here we can see that we input negative age that is not possible but this time no any error occurs because aur code is syntactically\n",
    "# right but have some error so to overcome from this we ganerally use custom exceptions"
   ]
  },
  {
   "cell_type": "code",
   "execution_count": 1,
   "id": "b9f67030-1d16-4397-b565-cdfddf77d3ef",
   "metadata": {},
   "outputs": [],
   "source": [
    "class validateage(Exception):\n",
    "    def __init__(self,msg):\n",
    "        self.msg=msg\n"
   ]
  },
  {
   "cell_type": "code",
   "execution_count": 2,
   "id": "7d99da8f-2fef-4497-81f5-7cb8c3e52402",
   "metadata": {},
   "outputs": [],
   "source": [
    "def validaeteage(age):\n",
    "    if age < 0:\n",
    "        raise validateage(\"age is negative\")\n",
    "    elif age > 200:\n",
    "        raise validateage(\"age is very high\")\n",
    "    else:\n",
    "        print(\"age is valid\")"
   ]
  },
  {
   "cell_type": "code",
   "execution_count": 3,
   "id": "2946edc1-75b8-438d-be29-c47e777f6d16",
   "metadata": {},
   "outputs": [
    {
     "name": "stdin",
     "output_type": "stream",
     "text": [
      "enter the age:  -34\n"
     ]
    },
    {
     "name": "stdout",
     "output_type": "stream",
     "text": [
      "age is negative\n"
     ]
    }
   ],
   "source": [
    "try:\n",
    "    age = int(input(\"enter the age: \"))\n",
    "    validaeteage(age)\n",
    "except validateage as e:\n",
    "    print(e)"
   ]
  },
  {
   "cell_type": "code",
   "execution_count": 4,
   "id": "23ba7015-07ae-46c2-b470-65466c4e3868",
   "metadata": {},
   "outputs": [],
   "source": [
    "# so here we can see that it shows that the age we entered is negative....which is not correct."
   ]
  },
  {
   "cell_type": "code",
   "execution_count": 5,
   "id": "d7bb977f-072a-4706-9a85-650515265632",
   "metadata": {},
   "outputs": [
    {
     "data": {
      "text/plain": [
       "'Q6. Create a custom exception class. Use this class to handle an exception.'"
      ]
     },
     "execution_count": 5,
     "metadata": {},
     "output_type": "execute_result"
    }
   ],
   "source": [
    "'''Q6. Create a custom exception class. Use this class to handle an exception.'''"
   ]
  },
  {
   "cell_type": "code",
   "execution_count": null,
   "id": "365e0113-1312-4c46-ba8e-22e8213ce66b",
   "metadata": {},
   "outputs": [],
   "source": []
  }
 ],
 "metadata": {
  "kernelspec": {
   "display_name": "Python 3 (ipykernel)",
   "language": "python",
   "name": "python3"
  },
  "language_info": {
   "codemirror_mode": {
    "name": "ipython",
    "version": 3
   },
   "file_extension": ".py",
   "mimetype": "text/x-python",
   "name": "python",
   "nbconvert_exporter": "python",
   "pygments_lexer": "ipython3",
   "version": "3.10.8"
  }
 },
 "nbformat": 4,
 "nbformat_minor": 5
}
